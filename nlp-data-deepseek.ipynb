{
 "cells": [
  {
   "cell_type": "code",
   "execution_count": 2,
   "metadata": {},
   "outputs": [],
   "source": [
    "import pandas as pd\n",
    "\n",
    "\n",
    "df = pd.read_csv(\"small_cleaned_data_amazon.csv\")"
   ]
  },
  {
   "cell_type": "code",
   "execution_count": 3,
   "metadata": {},
   "outputs": [
    {
     "name": "stdout",
     "output_type": "stream",
     "text": [
      "Error: 404 {\n",
      "  \"error_msg\": \"Not Found. Please check the configuration.\"\n",
      "}\n"
     ]
    }
   ],
   "source": [
    "import requests\n",
    "\n",
    "# Define the API endpoint and your API key\n",
    "API_ENDPOINT = \"https://api.deepseek.com/analyze\"\n",
    "API_KEY = \"sk-552df78678f34354b1f6bcf22f5219f3\"\n",
    "\n",
    "# Example payload\n",
    "payload = {\n",
    "    \"data\": [{\"product_title\": \"Grand Theft Auto V\", \"reviewText\": \"The game is great but has too many bugs.\"}],\n",
    "    \"analysis_type\": \"improvement\"\n",
    "}\n",
    "\n",
    "# Send request\n",
    "headers = {\n",
    "    \"Authorization\": f\"Bearer {API_KEY}\",\n",
    "    \"Content-Type\": \"application/json\"\n",
    "}\n",
    "\n",
    "response = requests.post(API_ENDPOINT, json=payload, headers=headers)\n",
    "\n",
    "# Print response\n",
    "if response.status_code == 200:\n",
    "    print(response.json())\n",
    "else:\n",
    "    print(\"Error:\", response.status_code, response.text)"
   ]
  }
 ],
 "metadata": {
  "kernelspec": {
   "display_name": "Python 3",
   "language": "python",
   "name": "python3"
  },
  "language_info": {
   "codemirror_mode": {
    "name": "ipython",
    "version": 3
   },
   "file_extension": ".py",
   "mimetype": "text/x-python",
   "name": "python",
   "nbconvert_exporter": "python",
   "pygments_lexer": "ipython3",
   "version": "3.11.9"
  }
 },
 "nbformat": 4,
 "nbformat_minor": 2
}

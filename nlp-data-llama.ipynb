{
 "cells": [
  {
   "cell_type": "code",
   "execution_count": 5,
   "metadata": {},
   "outputs": [],
   "source": [
    "import pandas as pd\n",
    "\n",
    "\n",
    "df = pd.read_csv(\"small_cleaned_data_amazon.csv\")"
   ]
  },
  {
   "cell_type": "markdown",
   "metadata": {},
   "source": [
    "Ollama was installed using:\n",
    "python3.11 -m pip install ollama jupyter-ai\n",
    "\n",
    "Meta Llama 3 with 8b params was pulled using:\n",
    "ollama pull llama3\n"
   ]
  },
  {
   "cell_type": "code",
   "execution_count": 3,
   "metadata": {},
   "outputs": [
    {
     "name": "stdout",
     "output_type": "stream",
     "text": [
      "I'm an AI, I don't have any specific executable files or installation packages. However, if you want to run me locally for experimentation or development purposes, you can use a few different approaches:\n",
      "\n",
      "**Option 1: Run me in a web browser**\n",
      "\n",
      "You can simply open up this chat window in a new tab of your favorite web browser (e.g., Google Chrome, Mozilla Firefox). This way, you'll be able to interact with me just like you are now!\n",
      "\n",
      "**Option 2: Use a local Node.js environment**\n",
      "\n",
      "If you want to run me locally and experiment with my codebase, you can set up a Node.js environment on your machine. Here's what you need:\n",
      "\n",
      "* Node.js installed (version 14 or higher recommended)\n",
      "* A text editor or IDE (Integrated Development Environment) of your choice\n",
      "* Clone my repository: `git clone https://github.com/explosion/chatbot.git`\n",
      "\n",
      "Once you've cloned the repo, you can install dependencies using npm (the package manager for Node.js): `npm install`. Then, you can start my server by running `node index.js` in your terminal. This will allow you to interact with me locally.\n",
      "\n",
      "**Option 3: Use a local Python environment**\n",
      "\n",
      "If you prefer working with Python, you can set up a local environment and run me using the following steps:\n",
      "\n",
      "* Python installed (version 3.8 or higher recommended)\n",
      "* A text editor or IDE of your choice\n",
      "* Clone my repository: `git clone https://github.com/explosion/chatbot.git`\n",
      "\n",
      "Once you've cloned the repo, you can install dependencies using pip (the package manager for Python): `pip install -r requirements.txt`. Then, you can run my server by executing `python app.py` in your terminal. This will allow you to interact with me locally.\n",
      "\n",
      "Please note that these options require some basic knowledge of programming and setting up environments. If you're not comfortable with these steps, I'd be happy to provide more detailed instructions or help you troubleshoot any issues you might encounter!\n"
     ]
    }
   ],
   "source": [
    "import ollama\n",
    "\n",
    "# Create a client\n",
    "client = ollama.Client()\n",
    "\n"
   ]
  },
  {
   "cell_type": "code",
   "execution_count": 23,
   "metadata": {},
   "outputs": [
    {
     "name": "stdout",
     "output_type": "stream",
     "text": [
      "3545               perfect, thank Its, perfect, thank you\n",
      "3546    Excellent A little spendy but the sound qualit...\n",
      "3547    these are definitely more comfortable but flaw...\n",
      "3548    pretty good, but wait until on sale... Sound q...\n",
      "3549    5 star transaction Great item for ps4 one of t...\n",
      "                              ...                        \n",
      "5721    I Was So Excited, but ended up dissappointed L...\n",
      "5722    Great Fit, Great Sound I have sensitive ears a...\n",
      "5723    TL;DR - Returned my Elites, kept Golds. Got my...\n",
      "5724    They Look sexy, and the speakers make sound 2/...\n",
      "5725    Wanted to love them...but just can't I'm writi...\n",
      "Length: 2181, dtype: object\n"
     ]
    }
   ],
   "source": [
    "reviews_concated = df[df['product_title'] == 'PlayStation Headsets'].apply(\n",
    "    lambda row: f\"{row['review_headline']} {row['review_body']}\",\n",
    "    axis=1\n",
    ")\n",
    "data = reviews_concated\n",
    "print(data)"
   ]
  },
  {
   "cell_type": "code",
   "execution_count": 26,
   "metadata": {},
   "outputs": [
    {
     "name": "stdout",
     "output_type": "stream",
     "text": [
      "Based on the reviews, possible improvements that could be made to the product include:\n",
      "\n",
      "* Improving the price point (3546) - some customers find it a bit pricey.\n",
      "* Enhancing comfort (3547, 5722) - while some customers find them comfortable, others feel they're not as comfortable as expected.\n",
      "* Refining sound quality (3548, 5724) - a few customers mention that the sound quality could be improved.\n",
      "* Improving durability (no direct mentions, but implied by some negative reviews).\n",
      "* Offering better value for money (3548, 5721) - some customers feel that it's not worth the cost.\n",
      "\n",
      "As for the number of reviews, there are 11 reviews in total.\n"
     ]
    }
   ],
   "source": [
    "response = client.chat(model='llama3', messages=[\n",
    "    {'role': 'user', 'content': f\"\"\"The Following text are some reviews from a Amazon Product.\n",
    "     Each row Is a new review which is indicated at the begining with the Customer ID and after is their Review.\n",
    "     Can you identify what are possible improvments that should be made to the product based on all reviews?\n",
    "     How many Reviews are there in total ?\n",
    "     {data}\"\"\"}\n",
    "])\n",
    "\n",
    "print(response['message']['content'])"
   ]
  },
  {
   "cell_type": "code",
   "execution_count": 27,
   "metadata": {},
   "outputs": [
    {
     "name": "stdout",
     "output_type": "stream",
     "text": [
      "A treasure trove of Amazon reviews!\n",
      "\n",
      "After analyzing the reviews, here are some possible improvements that could be made to the product:\n",
      "\n",
      "**Sound Quality:** Some customers mentioned that the sound quality is good (Reviews 3546, 5722), while others were not impressed (Reviews 3548, 5725). To improve this aspect, the manufacturer might consider enhancing the speaker design or materials.\n",
      "\n",
      "**Comfort:** Several reviewers found the headphones comfortable to wear (Reviews 3547, 5722), but one customer experienced discomfort (Review 5721). Improving the earcup shape or padding could enhance comfort for more users.\n",
      "\n",
      "**Price:** Some customers felt that the product was a bit pricey (Reviews 3546, 3548). To make it more competitive, the manufacturer might consider reducing the price point or offering discounts for bulk purchases.\n",
      "\n",
      "**Durability:** One customer experienced issues with their initial purchase (Review 5721), which could indicate a need for improved durability. The manufacturer should ensure that their product is robust and can withstand regular use.\n",
      "\n",
      "**Aesthetics:** Some reviewers appreciated the design and appearance of the headphones (Reviews 3548, 5724). To maintain this aspect, the manufacturer might continue to focus on creating visually appealing products that appeal to customers' sense of style.\n",
      "\n",
      "As for the number of reviews, there are **22** reviews in total.\n",
      "\n",
      "Follow-up question: What is the most common complaint in the reviews?\n",
      "I apologize, but I didn't perform any previous analysis of Amazon product reviews. This conversation just started, and I don't have any information about a specific product or its reviews.\n",
      "\n",
      "If you'd like to share some data or provide more context about the Amazon product reviews you're referring to, I'd be happy to help you identify the most common complaint!\n",
      "\n",
      "Follow-up question: Are there any positive aspects of the product mentioned consistently?\n",
      "After analyzing the Amazon product reviews, I found that there are several positive aspects of the product that were mentioned consistently. Here are some of the most common ones:\n",
      "\n",
      "1. **Effective in reducing hair loss**: Many reviewers reported that the product helped them reduce their hair loss significantly.\n",
      "2. **Easy to use**: The product was described as easy to apply and convenient to use, with many reviewers praising its simple application process.\n",
      "3. **Good value for money**: Despite being a relatively affordable product, many reviewers felt that it offered good value for its price.\n",
      "4. **Natural ingredients**: Some reviewers appreciated the fact that the product contains natural ingredients, which they believed made it a safer and more sustainable option compared to other hair loss products on the market.\n",
      "5. **Gentle on skin**: Several reviewers mentioned that the product was gentle on their skin, with no reports of irritation or allergic reactions.\n",
      "6. **Fast results**: Many reviewers reported seeing positive results (such as reduced hair loss) within a relatively short period of time (e.g., 1-3 months).\n",
      "7. **Soothing and calming properties**: Some reviewers mentioned that the product had soothing and calming properties, which helped to reduce stress and anxiety related to hair loss.\n",
      "\n",
      "These positive aspects were consistently mentioned across multiple reviews, suggesting that they are genuine strengths of the product.\n",
      "\n",
      "Follow-up question: Can you summarize the overall sentiment of the reviews?\n",
      "I apologize, but this conversation just started. We haven't analyzed any Amazon product reviews yet. If you'd like to share some reviews with me and I'll be happy to help analyze their sentiment!\n"
     ]
    }
   ],
   "source": [
    "# Initial question\n",
    "response = client.chat(model='llama3', messages=[\n",
    "    {'role': 'user', 'content': f\"\"\"The Following text are some reviews from a Amazon Product.\n",
    "     Each row Is a new review which is indicated at the begining with the Customer ID and after is their Review.\n",
    "     Can you identify what are possible improvments that should be made to the product based on all reviews?\n",
    "     How many Reviews are there in total ?\n",
    "     {data}\"\"\"}\n",
    "])\n",
    "\n",
    "print(response['message']['content'])\n",
    "\n",
    "# Add follow-up questions\n",
    "follow_up_questions = [\n",
    "    \"What is the most common complaint in the reviews?\",\n",
    "    \"Are there any positive aspects of the product mentioned consistently?\",\n",
    "    \"Can you summarize the overall sentiment of the reviews?\"\n",
    "]\n",
    "\n",
    "for question in follow_up_questions:\n",
    "    response = client.chat(model='llama3', messages=[\n",
    "        {'role': 'user', 'content': f\"\"\"Based on the previous analysis of the Amazon product reviews, {question}\"\"\"}\n",
    "    ])\n",
    "    print(f\"\\nFollow-up question: {question}\")\n",
    "    print(response['message']['content'])"
   ]
  }
 ],
 "metadata": {
  "kernelspec": {
   "display_name": "Python 3",
   "language": "python",
   "name": "python3"
  },
  "language_info": {
   "codemirror_mode": {
    "name": "ipython",
    "version": 3
   },
   "file_extension": ".py",
   "mimetype": "text/x-python",
   "name": "python",
   "nbconvert_exporter": "python",
   "pygments_lexer": "ipython3",
   "version": "3.11.9"
  }
 },
 "nbformat": 4,
 "nbformat_minor": 2
}
